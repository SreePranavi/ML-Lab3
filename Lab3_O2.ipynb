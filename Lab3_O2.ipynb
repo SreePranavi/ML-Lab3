{
  "nbformat": 4,
  "nbformat_minor": 0,
  "metadata": {
    "colab": {
      "provenance": []
    },
    "kernelspec": {
      "name": "python3",
      "display_name": "Python 3"
    },
    "language_info": {
      "name": "python"
    }
  },
  "cells": [
    {
      "cell_type": "code",
      "execution_count": 1,
      "metadata": {
        "colab": {
          "base_uri": "https://localhost:8080/"
        },
        "id": "liPrxNaf8QzC",
        "outputId": "4f536b8d-778a-4c58-9e1c-24d34892e44a"
      },
      "outputs": [
        {
          "output_type": "stream",
          "name": "stdout",
          "text": [
            "Accuracy with euclidean (p=None): 0.5841\n",
            "Accuracy with manhattan (p=None): 0.5683\n",
            "Accuracy with minkowski (p=1): 0.5683\n",
            "Accuracy with minkowski (p=2): 0.5841\n"
          ]
        }
      ],
      "source": [
        "import numpy as np\n",
        "import pandas as pd\n",
        "from sklearn.feature_extraction.text import TfidfVectorizer\n",
        "from sklearn.model_selection import train_test_split\n",
        "from sklearn.neighbors import KNeighborsClassifier\n",
        "from sklearn.metrics import accuracy_score\n",
        "\n",
        "def evaluate_knn_with_metrics(X_train, X_test, y_train, y_test, metrics):\n",
        "    results = []\n",
        "    for metric, p in metrics:\n",
        "        # Train KNN classifier with the specified metric\n",
        "        if metric == 'minkowski':\n",
        "            neigh = KNeighborsClassifier(n_neighbors=3, metric=metric, p=p)\n",
        "        else:\n",
        "            neigh = KNeighborsClassifier(n_neighbors=3, metric=metric)\n",
        "\n",
        "        neigh.fit(X_train, y_train)\n",
        "\n",
        "        # Predict on the test set\n",
        "        y_test_pred = neigh.predict(X_test)\n",
        "\n",
        "        # Evaluate accuracy\n",
        "        accuracy = accuracy_score(y_test, y_test_pred)\n",
        "        results.append((metric, p, accuracy))\n",
        "\n",
        "    return results\n",
        "\n",
        "def main():\n",
        "    # Load the dataset from the Excel file\n",
        "    df = pd.read_excel('/content/Book1.xlsx')\n",
        "\n",
        "    # Strip leading/trailing spaces from column names\n",
        "    df.columns = df.columns.str.strip()\n",
        "\n",
        "    # Extract texts from ENGLISH and HINDI columns\n",
        "    english_texts = df['ENGLISH'].tolist()\n",
        "    hindi_texts = df['HINDI'].tolist()\n",
        "\n",
        "    # Create labels for the texts (0 for English, 1 for Hindi)\n",
        "    english_labels = [0] * len(english_texts)\n",
        "    hindi_labels = [1] * len(hindi_texts)\n",
        "\n",
        "    # Combine the texts and labels\n",
        "    texts = english_texts + hindi_texts\n",
        "    labels = english_labels + hindi_labels\n",
        "\n",
        "    # Create a TF-IDF Vectorizer and fit_transform the text data\n",
        "    vectorizer = TfidfVectorizer()\n",
        "    tfidf_matrix = vectorizer.fit_transform(texts).toarray()\n",
        "\n",
        "    # Split the dataset into training and testing sets\n",
        "    X_train, X_test, y_train, y_test = train_test_split(tfidf_matrix, labels, test_size=0.3, random_state=42)\n",
        "\n",
        "    # List of metrics and p values to evaluate\n",
        "    metrics = [('euclidean', None), ('manhattan', None), ('minkowski', 1), ('minkowski', 2)]\n",
        "\n",
        "    # Evaluate KNN with different metrics\n",
        "    results = evaluate_knn_with_metrics(X_train, X_test, y_train, y_test, metrics)\n",
        "\n",
        "    # Print results\n",
        "    for metric, p, accuracy in results:\n",
        "        print(f\"Accuracy with {metric} (p={p}): {accuracy:.4f}\")\n",
        "\n",
        "if __name__ == \"__main__\":\n",
        "    main()\n"
      ]
    }
  ]
}