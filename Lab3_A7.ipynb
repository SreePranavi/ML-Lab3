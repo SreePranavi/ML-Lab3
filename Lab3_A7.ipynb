{
  "nbformat": 4,
  "nbformat_minor": 0,
  "metadata": {
    "colab": {
      "provenance": []
    },
    "kernelspec": {
      "name": "python3",
      "display_name": "Python 3"
    },
    "language_info": {
      "name": "python"
    }
  },
  "cells": [
    {
      "cell_type": "code",
      "execution_count": 1,
      "metadata": {
        "colab": {
          "base_uri": "https://localhost:8080/"
        },
        "id": "ZmnUDFrEkn2v",
        "outputId": "668e9ad0-6d8c-4dbf-a53b-6dc02d7b7f03"
      },
      "outputs": [
        {
          "output_type": "stream",
          "name": "stdout",
          "text": [
            "Accuracy of K-Nearest Neighbors classifier: 0.58\n",
            "Predictions for the test set:\n",
            "[1 1 1 ... 1 1 1]\n",
            "Classification for the specific test vector: 1\n"
          ]
        }
      ],
      "source": [
        "import numpy as np\n",
        "import pandas as pd\n",
        "from sklearn.feature_extraction.text import TfidfVectorizer\n",
        "from sklearn.model_selection import train_test_split\n",
        "from sklearn.neighbors import KNeighborsClassifier\n",
        "\n",
        "def main():\n",
        "    # Load the dataset from the Excel file\n",
        "    df = pd.read_excel('/content/Book1.xlsx')\n",
        "\n",
        "    # Strip leading/trailing spaces from column names\n",
        "    df.columns = df.columns.str.strip()\n",
        "\n",
        "    # Extract texts from ENGLISH and HINDI columns\n",
        "    english_texts = df['ENGLISH'].tolist()\n",
        "    hindi_texts = df['HINDI'].tolist()\n",
        "\n",
        "    # Create labels for the texts (0 for English, 1 for Hindi)\n",
        "    english_labels = [0] * len(english_texts)\n",
        "    hindi_labels = [1] * len(hindi_texts)\n",
        "\n",
        "    # Combine the texts and labels\n",
        "    texts = english_texts + hindi_texts\n",
        "    labels = english_labels + hindi_labels\n",
        "\n",
        "    # Create a TF-IDF Vectorizer and fit_transform the text data\n",
        "    vectorizer = TfidfVectorizer()\n",
        "    tfidf_matrix = vectorizer.fit_transform(texts).toarray()\n",
        "\n",
        "    # Split the dataset into training and testing sets\n",
        "    X_train, X_test, y_train, y_test = train_test_split(tfidf_matrix, labels, test_size=0.3, random_state=42)\n",
        "\n",
        "    # Train a K-Nearest Neighbors classifier\n",
        "    neigh = KNeighborsClassifier(n_neighbors=3)\n",
        "    neigh.fit(X_train, y_train)\n",
        "\n",
        "    # Test the accuracy of the classifier using the test set\n",
        "    accuracy = neigh.score(X_test, y_test)\n",
        "    print(f\"Accuracy of K-Nearest Neighbors classifier: {accuracy:.2f}\")\n",
        "\n",
        "    # Predict the classes for all test vectors\n",
        "    test_predictions = neigh.predict(X_test)\n",
        "    print(\"Predictions for the test set:\")\n",
        "    print(test_predictions)\n",
        "\n",
        "    # Classify a specific test vector (e.g., the first test vector)\n",
        "    test_vect = X_test[0].reshape(1, -1)  # Reshape to 2D array as predict expects 2D input\n",
        "    specific_prediction = neigh.predict(test_vect)\n",
        "    print(f\"Classification for the specific test vector: {specific_prediction[0]}\")\n",
        "\n",
        "if __name__ == \"__main__\":\n",
        "    main()\n"
      ]
    }
  ]
}